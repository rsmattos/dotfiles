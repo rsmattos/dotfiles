{
 "cells": [
  {
   "cell_type": "code",
   "execution_count": 9,
   "metadata": {},
   "outputs": [],
   "source": [
    "import sys\n",
    "import numpy as np\n",
    "\n",
    "sys.path.append('../src')\n",
    "from vel_verlet import VelocityVerlet\n",
    "from elec_method.electronic_interface import ElectronicInterface\n",
    "from nuc_method.nuc_interface import NuclearInterface"
   ]
  },
  {
   "cell_type": "markdown",
   "metadata": {},
   "source": [
    "# Testing the potential"
   ]
  },
  {
   "cell_type": "code",
   "execution_count": 10,
   "metadata": {},
   "outputs": [],
   "source": [
    "potential = ElectronicInterface('Tully1')"
   ]
  },
  {
   "cell_type": "code",
   "execution_count": 11,
   "metadata": {},
   "outputs": [],
   "source": [
    "positions = np.array([-1])\n",
    "energies, gradients, nacvs = potential.compute_electronic(positions, 0)"
   ]
  },
  {
   "cell_type": "code",
   "execution_count": 12,
   "metadata": {},
   "outputs": [
    {
     "name": "stdout",
     "output_type": "stream",
     "text": [
      "[-0.00819026  0.00819026]\n",
      "[[ 0.00232163]\n",
      " [-0.00232163]]\n",
      "[ 0.         -0.26313592]\n"
     ]
    }
   ],
   "source": [
    "print(energies)\n",
    "print(gradients)\n",
    "print(nacvs)"
   ]
  },
  {
   "cell_type": "markdown",
   "metadata": {},
   "source": [
    "# Testing the dynamics method"
   ]
  },
  {
   "cell_type": "code",
   "execution_count": 13,
   "metadata": {},
   "outputs": [],
   "source": [
    "mass = np.array([2000])\n",
    "dynamic = NuclearInterface(mass, 'AIMS', 'Tully1')"
   ]
  },
  {
   "cell_type": "code",
   "execution_count": 14,
   "metadata": {},
   "outputs": [
    {
     "data": {
      "text/plain": [
       "(array([-1.16081386e-06]),\n",
       " {'energies': array([-0.00819026,  0.00819026]),\n",
       "  'gradients': array([[ 0.00232163],\n",
       "         [-0.00232163]]),\n",
       "  'nacvs': array([ 0.        , -0.26313592])})"
      ]
     },
     "execution_count": 14,
     "metadata": {},
     "output_type": "execute_result"
    }
   ],
   "source": [
    "dynamic.acceleration(positions, 0)"
   ]
  },
  {
   "cell_type": "markdown",
   "metadata": {},
   "source": [
    "# Testing verlet propagation"
   ]
  },
  {
   "cell_type": "code",
   "execution_count": 15,
   "metadata": {},
   "outputs": [
    {
     "name": "stdout",
     "output_type": "stream",
     "text": [
      "at time 0 the new position is [-0.9999]\n",
      "at time 0 the new velocity is [0.00099994]\n",
      "at time 1 the new position is [-0.99980001]\n",
      "at time 1 the new velocity is [0.00099983]\n",
      "at time 2 the new position is [-0.99970003]\n",
      "at time 2 the new velocity is [0.00099971]\n",
      "at time 3 the new position is [-0.99960007]\n",
      "at time 3 the new velocity is [0.00099959]\n",
      "at time 4 the new position is [-0.99950012]\n",
      "at time 4 the new velocity is [0.00099948]\n",
      "at time 5 the new position is [-0.99940017]\n",
      "at time 5 the new velocity is [0.00099936]\n",
      "at time 6 the new position is [-0.99930024]\n",
      "at time 6 the new velocity is [0.00099925]\n",
      "at time 7 the new position is [-0.99920033]\n",
      "at time 7 the new velocity is [0.00099913]\n",
      "at time 8 the new position is [-0.99910042]\n",
      "at time 8 the new velocity is [0.00099901]\n",
      "at time 9 the new position is [-0.99900052]\n",
      "at time 9 the new velocity is [0.0009989]\n",
      "at time 10 the new position is [-0.99890064]\n",
      "at time 10 the new velocity is [0.00099878]\n",
      "at time 11 the new position is [-0.99880077]\n",
      "at time 11 the new velocity is [0.00099866]\n",
      "at time 12 the new position is [-0.99870091]\n",
      "at time 12 the new velocity is [0.00099855]\n",
      "at time 13 the new position is [-0.99860106]\n",
      "at time 13 the new velocity is [0.00099843]\n",
      "at time 14 the new position is [-0.99850122]\n",
      "at time 14 the new velocity is [0.00099832]\n",
      "at time 15 the new position is [-0.99840139]\n",
      "at time 15 the new velocity is [0.0009982]\n",
      "at time 16 the new position is [-0.99830158]\n",
      "at time 16 the new velocity is [0.00099808]\n",
      "at time 17 the new position is [-0.99820178]\n",
      "at time 17 the new velocity is [0.00099797]\n",
      "at time 18 the new position is [-0.99810199]\n",
      "at time 18 the new velocity is [0.00099785]\n",
      "at time 19 the new position is [-0.99800221]\n",
      "at time 19 the new velocity is [0.00099773]\n",
      "at time 20 the new position is [-0.99790244]\n",
      "at time 20 the new velocity is [0.00099762]\n",
      "at time 21 the new position is [-0.99780268]\n",
      "at time 21 the new velocity is [0.0009975]\n",
      "at time 22 the new position is [-0.99770294]\n",
      "at time 22 the new velocity is [0.00099739]\n",
      "at time 23 the new position is [-0.99760321]\n",
      "at time 23 the new velocity is [0.00099727]\n",
      "at time 24 the new position is [-0.99750348]\n",
      "at time 24 the new velocity is [0.00099715]\n",
      "at time 25 the new position is [-0.99740378]\n",
      "at time 25 the new velocity is [0.00099704]\n",
      "at time 26 the new position is [-0.99730408]\n",
      "at time 26 the new velocity is [0.00099692]\n",
      "at time 27 the new position is [-0.99720439]\n",
      "at time 27 the new velocity is [0.0009968]\n",
      "at time 28 the new position is [-0.99710472]\n",
      "at time 28 the new velocity is [0.00099669]\n",
      "at time 29 the new position is [-0.99700505]\n",
      "at time 29 the new velocity is [0.00099657]\n",
      "at time 30 the new position is [-0.9969054]\n",
      "at time 30 the new velocity is [0.00099645]\n",
      "at time 31 the new position is [-0.99680576]\n",
      "at time 31 the new velocity is [0.00099634]\n",
      "at time 32 the new position is [-0.99670613]\n",
      "at time 32 the new velocity is [0.00099622]\n",
      "at time 33 the new position is [-0.99660652]\n",
      "at time 33 the new velocity is [0.00099611]\n",
      "at time 34 the new position is [-0.99650691]\n",
      "at time 34 the new velocity is [0.00099599]\n",
      "at time 35 the new position is [-0.99640732]\n",
      "at time 35 the new velocity is [0.00099587]\n",
      "at time 36 the new position is [-0.99630774]\n",
      "at time 36 the new velocity is [0.00099576]\n",
      "at time 37 the new position is [-0.99620817]\n",
      "at time 37 the new velocity is [0.00099564]\n",
      "at time 38 the new position is [-0.99610861]\n",
      "at time 38 the new velocity is [0.00099552]\n",
      "at time 39 the new position is [-0.99600906]\n",
      "at time 39 the new velocity is [0.00099541]\n",
      "at time 40 the new position is [-0.99590953]\n",
      "at time 40 the new velocity is [0.00099529]\n",
      "at time 41 the new position is [-0.99581001]\n",
      "at time 41 the new velocity is [0.00099517]\n",
      "at time 42 the new position is [-0.99571049]\n",
      "at time 42 the new velocity is [0.00099506]\n",
      "at time 43 the new position is [-0.995611]\n",
      "at time 43 the new velocity is [0.00099494]\n",
      "at time 44 the new position is [-0.99551151]\n",
      "at time 44 the new velocity is [0.00099482]\n",
      "at time 45 the new position is [-0.99541203]\n",
      "at time 45 the new velocity is [0.00099471]\n",
      "at time 46 the new position is [-0.99531257]\n",
      "at time 46 the new velocity is [0.00099459]\n",
      "at time 47 the new position is [-0.99521311]\n",
      "at time 47 the new velocity is [0.00099447]\n",
      "at time 48 the new position is [-0.99511367]\n",
      "at time 48 the new velocity is [0.00099436]\n",
      "at time 49 the new position is [-0.99501424]\n",
      "at time 49 the new velocity is [0.00099424]\n",
      "at time 50 the new position is [-0.99491482]\n",
      "at time 50 the new velocity is [0.00099413]\n",
      "at time 51 the new position is [-0.99481542]\n",
      "at time 51 the new velocity is [0.00099401]\n",
      "at time 52 the new position is [-0.99471602]\n",
      "at time 52 the new velocity is [0.00099389]\n",
      "at time 53 the new position is [-0.99461664]\n",
      "at time 53 the new velocity is [0.00099378]\n",
      "at time 54 the new position is [-0.99451726]\n",
      "at time 54 the new velocity is [0.00099366]\n",
      "at time 55 the new position is [-0.9944179]\n",
      "at time 55 the new velocity is [0.00099354]\n",
      "at time 56 the new position is [-0.99431856]\n",
      "at time 56 the new velocity is [0.00099343]\n",
      "at time 57 the new position is [-0.99421922]\n",
      "at time 57 the new velocity is [0.00099331]\n",
      "at time 58 the new position is [-0.99411989]\n",
      "at time 58 the new velocity is [0.00099319]\n",
      "at time 59 the new position is [-0.99402058]\n",
      "at time 59 the new velocity is [0.00099308]\n",
      "at time 60 the new position is [-0.99392128]\n",
      "at time 60 the new velocity is [0.00099296]\n",
      "at time 61 the new position is [-0.99382199]\n",
      "at time 61 the new velocity is [0.00099284]\n",
      "at time 62 the new position is [-0.99372271]\n",
      "at time 62 the new velocity is [0.00099273]\n",
      "at time 63 the new position is [-0.99362344]\n",
      "at time 63 the new velocity is [0.00099261]\n",
      "at time 64 the new position is [-0.99352419]\n",
      "at time 64 the new velocity is [0.00099249]\n",
      "at time 65 the new position is [-0.99342495]\n",
      "at time 65 the new velocity is [0.00099238]\n",
      "at time 66 the new position is [-0.99332571]\n",
      "at time 66 the new velocity is [0.00099226]\n",
      "at time 67 the new position is [-0.99322649]\n",
      "at time 67 the new velocity is [0.00099214]\n",
      "at time 68 the new position is [-0.99312729]\n",
      "at time 68 the new velocity is [0.00099203]\n",
      "at time 69 the new position is [-0.99302809]\n",
      "at time 69 the new velocity is [0.00099191]\n",
      "at time 70 the new position is [-0.9929289]\n",
      "at time 70 the new velocity is [0.00099179]\n",
      "at time 71 the new position is [-0.99282973]\n",
      "at time 71 the new velocity is [0.00099168]\n",
      "at time 72 the new position is [-0.99273057]\n",
      "at time 72 the new velocity is [0.00099156]\n",
      "at time 73 the new position is [-0.99263142]\n",
      "at time 73 the new velocity is [0.00099144]\n",
      "at time 74 the new position is [-0.99253228]\n",
      "at time 74 the new velocity is [0.00099132]\n",
      "at time 75 the new position is [-0.99243315]\n",
      "at time 75 the new velocity is [0.00099121]\n",
      "at time 76 the new position is [-0.99233404]\n",
      "at time 76 the new velocity is [0.00099109]\n",
      "at time 77 the new position is [-0.99223494]\n",
      "at time 77 the new velocity is [0.00099097]\n",
      "at time 78 the new position is [-0.99213584]\n",
      "at time 78 the new velocity is [0.00099086]\n",
      "at time 79 the new position is [-0.99203676]\n",
      "at time 79 the new velocity is [0.00099074]\n",
      "at time 80 the new position is [-0.9919377]\n",
      "at time 80 the new velocity is [0.00099062]\n",
      "at time 81 the new position is [-0.99183864]\n",
      "at time 81 the new velocity is [0.00099051]\n",
      "at time 82 the new position is [-0.99173959]\n",
      "at time 82 the new velocity is [0.00099039]\n",
      "at time 83 the new position is [-0.99164056]\n",
      "at time 83 the new velocity is [0.00099027]\n",
      "at time 84 the new position is [-0.99154154]\n",
      "at time 84 the new velocity is [0.00099016]\n",
      "at time 85 the new position is [-0.99144253]\n",
      "at time 85 the new velocity is [0.00099004]\n",
      "at time 86 the new position is [-0.99134353]\n",
      "at time 86 the new velocity is [0.00098992]\n",
      "at time 87 the new position is [-0.99124455]\n",
      "at time 87 the new velocity is [0.00098981]\n",
      "at time 88 the new position is [-0.99114557]\n",
      "at time 88 the new velocity is [0.00098969]\n",
      "at time 89 the new position is [-0.99104661]\n",
      "at time 89 the new velocity is [0.00098957]\n",
      "at time 90 the new position is [-0.99094766]\n",
      "at time 90 the new velocity is [0.00098945]\n",
      "at time 91 the new position is [-0.99084872]\n",
      "at time 91 the new velocity is [0.00098934]\n",
      "at time 92 the new position is [-0.99074979]\n",
      "at time 92 the new velocity is [0.00098922]\n",
      "at time 93 the new position is [-0.99065087]\n",
      "at time 93 the new velocity is [0.0009891]\n",
      "at time 94 the new position is [-0.99055197]\n",
      "at time 94 the new velocity is [0.00098899]\n",
      "at time 95 the new position is [-0.99045308]\n",
      "at time 95 the new velocity is [0.00098887]\n",
      "at time 96 the new position is [-0.99035419]\n",
      "at time 96 the new velocity is [0.00098875]\n",
      "at time 97 the new position is [-0.99025533]\n",
      "at time 97 the new velocity is [0.00098864]\n",
      "at time 98 the new position is [-0.99015647]\n",
      "at time 98 the new velocity is [0.00098852]\n",
      "at time 99 the new position is [-0.99005762]\n",
      "at time 99 the new velocity is [0.0009884]\n"
     ]
    }
   ],
   "source": [
    "verlet = VelocityVerlet()\n",
    "\n",
    "new_pos = np.array([-1])\n",
    "new_vel = np.array([0.001])\n",
    "new_acc = np.array([0])\n",
    "\n",
    "for i in range(100):\n",
    "\n",
    "    old_pos, old_vel, old_acc = new_pos, new_vel, new_acc\n",
    "\n",
    "    new_pos, new_vel, new_acc, _ = verlet.take_step(old_pos = old_pos,\n",
    "                                                    old_vel = old_vel,\n",
    "                                                    old_acc = old_acc,\n",
    "                                                    dt = 0.1,\n",
    "                                                    acc_func = dynamic.acceleration,\n",
    "                                                    state = 0)\n",
    "    \n",
    "    print(f'at time {i} the new position is {new_pos}')\n",
    "    print(f'at time {i} the new velocity is {new_vel}')"
   ]
  },
  {
   "cell_type": "code",
   "execution_count": 16,
   "metadata": {},
   "outputs": [
    {
     "data": {
      "text/plain": [
       "array([-0.99005762])"
      ]
     },
     "execution_count": 16,
     "metadata": {},
     "output_type": "execute_result"
    }
   ],
   "source": [
    "new_pos"
   ]
  },
  {
   "cell_type": "code",
   "execution_count": 18,
   "metadata": {},
   "outputs": [
    {
     "data": {
      "text/plain": [
       "array([4.64691555e-310, 0.00000000e+000, 0.00000000e+000, 0.00000000e+000,\n",
       "       1.16709769e-312, 7.40678483e-038])"
      ]
     },
     "execution_count": 18,
     "metadata": {},
     "output_type": "execute_result"
    }
   ],
   "source": [
    "tmp = np.empty(shape=(2,6))\n",
    "tmp[0]"
   ]
  }
 ],
 "metadata": {
  "kernelspec": {
   "display_name": "Python 3",
   "language": "python",
   "name": "python3"
  },
  "language_info": {
   "codemirror_mode": {
    "name": "ipython",
    "version": 3
   },
   "file_extension": ".py",
   "mimetype": "text/x-python",
   "name": "python",
   "nbconvert_exporter": "python",
   "pygments_lexer": "ipython3",
   "version": "3.11.5"
  },
  "orig_nbformat": 4
 },
 "nbformat": 4,
 "nbformat_minor": 2
}
